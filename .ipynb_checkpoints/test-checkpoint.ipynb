{
 "cells": [
  {
   "cell_type": "code",
   "execution_count": 1,
   "metadata": {},
   "outputs": [],
   "source": [
    "import warnings\n",
    "warnings.filterwarnings('ignore')"
   ]
  },
  {
   "cell_type": "markdown",
   "metadata": {},
   "source": [
    "**Logistic Regression**\n",
    "\n",
    "[UCI的Adult数据集](https://archive.ics.uci.edu/ml/datasets/Adult)"
   ]
  },
  {
   "cell_type": "code",
   "execution_count": 2,
   "metadata": {
    "scrolled": true
   },
   "outputs": [
    {
     "name": "stdout",
     "output_type": "stream",
     "text": [
      "accuracy: 0.8160743938890734\n"
     ]
    }
   ],
   "source": [
    "from process import UCIadult_process\n",
    "from mlearn import lr\n",
    "import pandas as pd\n",
    "import numpy as np\n",
    "from sklearn.metrics import accuracy_score\n",
    "\n",
    "train = UCIadult_process.process('data/UCI_adult/adult.data', None)\n",
    "test = UCIadult_process.process('data/UCI_adult/adult.test', [0])\n",
    "\n",
    "del train['native_country_Holand-Netherlands']\n",
    "\n",
    "X_train = train.drop(['salary'], axis=1).values\n",
    "y_train = train.salary.values\n",
    "\n",
    "X_test = test.drop(['salary'], axis=1).values\n",
    "y_test = test.salary.values\n",
    "\n",
    "clf = lr.LogisticRegression(train.drop(['salary'], axis=1).columns, max_iter=1000)\n",
    "clf.fit(X_train, y_train)\n",
    "y_pred = clf.predict(X_test)\n",
    "\n",
    "y_pred[y_pred >= 0.5] = 1\n",
    "y_pred[y_pred < 0.5] = 0\n",
    "\n",
    "acc = accuracy_score(y_test, y_pred)\n",
    "print('accuracy:', acc)"
   ]
  },
  {
   "cell_type": "code",
   "execution_count": 3,
   "metadata": {},
   "outputs": [
    {
     "name": "stderr",
     "output_type": "stream",
     "text": [
      "[Parallel(n_jobs=1)]: Done   1 out of   1 | elapsed:    1.5s remaining:    0.0s\n",
      "[Parallel(n_jobs=1)]: Done   1 out of   1 | elapsed:    1.5s finished\n"
     ]
    },
    {
     "data": {
      "text/plain": [
       "0.8458319495184324"
      ]
     },
     "execution_count": 3,
     "metadata": {},
     "output_type": "execute_result"
    }
   ],
   "source": [
    "from sklearn import linear_model\n",
    "from process import UCIadult_process\n",
    "\n",
    "train = UCIadult_process.process('data/UCI_adult/adult.data', None)\n",
    "test = UCIadult_process.process('data/UCI_adult/adult.test', [0])\n",
    "\n",
    "del train['native_country_Holand-Netherlands']\n",
    "\n",
    "X_train = train.drop(['salary'], axis=1).as_matrix()\n",
    "y_train = train.salary.as_matrix()\n",
    "\n",
    "X_test = test.drop(['salary'], axis=1).as_matrix()\n",
    "y_test = test.salary.as_matrix()\n",
    "y_test = y_test\n",
    "\n",
    "clf = linear_model.LogisticRegression(penalty='l2',verbose=2,solver='newton-cg').fit(X_train, y_train)\n",
    "clf.score(X_test, y_test)"
   ]
  },
  {
   "cell_type": "markdown",
   "metadata": {},
   "source": [
    "**Perceptron**\n",
    "\n",
    "[UCI的Adult数据集](https://archive.ics.uci.edu/ml/datasets/Adult)"
   ]
  },
  {
   "cell_type": "code",
   "execution_count": 4,
   "metadata": {
    "scrolled": true
   },
   "outputs": [
    {
     "name": "stdout",
     "output_type": "stream",
     "text": [
      "accuracy: 0.8159415476585852\n"
     ]
    }
   ],
   "source": [
    "from process import UCIadult_process\n",
    "from mlearn import perceptron\n",
    "import pandas as pd\n",
    "import numpy as np\n",
    "from sklearn.metrics import accuracy_score\n",
    "\n",
    "train = UCIadult_process.process('data/UCI_adult/adult.data', None)\n",
    "test = UCIadult_process.process('data/UCI_adult/adult.test', [0])\n",
    "\n",
    "del train['native_country_Holand-Netherlands']\n",
    "\n",
    "# 用5000条数据进行训练，超过一定的数量对偶问题求解会💥\n",
    "X_train = train.drop(['salary'], axis=1).values[:5000,:]\n",
    "y_train = train.salary.values[:5000]\n",
    "y_train[y_train == 0] = -1\n",
    "\n",
    "X_test = test.drop(['salary'], axis=1).values\n",
    "y_test = test.salary.values\n",
    "y_test[y_test == 0] = -1\n",
    "\n",
    "clf = perceptron.Perceptron(train.drop(['salary'], axis=1).columns, max_iter=1000)\n",
    "clf.fit(X_train, y_train)\n",
    "y_pred = clf.predict(X_test)\n",
    "\n",
    "acc = accuracy_score(y_test, y_pred)\n",
    "print('accuracy:', acc)"
   ]
  },
  {
   "cell_type": "code",
   "execution_count": 5,
   "metadata": {
    "scrolled": false
   },
   "outputs": [
    {
     "data": {
      "text/plain": [
       "0.8075722351378279"
      ]
     },
     "execution_count": 5,
     "metadata": {},
     "output_type": "execute_result"
    }
   ],
   "source": [
    "from sklearn import linear_model\n",
    "import sys\n",
    "from process import UCIadult_process\n",
    "\n",
    "train = UCIadult_process.process('data/UCI_adult/adult.data', None)\n",
    "test = UCIadult_process.process('data/UCI_adult/adult.test', [0])\n",
    "\n",
    "del train['native_country_Holand-Netherlands']\n",
    "\n",
    "X_train = train.drop(['salary'], axis=1).values\n",
    "y_train = train.salary.values\n",
    "\n",
    "X_test = test.drop(['salary'],axis=1).values\n",
    "y_test = test.salary.values\n",
    "\n",
    "clf = linear_model.Perceptron(max_iter=1000,shuffle=True).fit(X_train, y_train)\n",
    "clf.score(X_test, y_test)"
   ]
  },
  {
   "cell_type": "markdown",
   "metadata": {},
   "source": [
    "**拉格朗日乘子法**\n",
    "\n",
    "![](https://i.loli.net/2018/09/18/5ba0eec766bac.png)"
   ]
  },
  {
   "cell_type": "code",
   "execution_count": 6,
   "metadata": {},
   "outputs": [
    {
     "name": "stdout",
     "output_type": "stream",
     "text": [
      "[((-1, 1, 6, 4), 8)]\n"
     ]
    }
   ],
   "source": [
    "from sympy import *\n",
    "from mlearn import optimize\n",
    "\n",
    "\n",
    "x1 = Symbol('x1')\n",
    "x2 = Symbol('x2')\n",
    "f = 10 - x1**2 -x2**2\n",
    "cons_e = [x1+x2]\n",
    "cons_le = [x1**2-x2]\n",
    "result= optimize.lagrange_multiplier(f, cons_e, cons_le, x1, x2)\n",
    "print(result)"
   ]
  },
  {
   "cell_type": "markdown",
   "metadata": {},
   "source": [
    "f(x,y,z)=L²=x²+y²+z²\n",
    "\n",
    "曲面方程化为 x²+2y²-3z²-4=0\n",
    "\n",
    "设辅助系数为 a,则对应的拉格朗日辅助函数为\n",
    "\n",
    "f(x,y,z,a)=x²+y²+z²+a(x²+2y²-3z²-4)"
   ]
  },
  {
   "cell_type": "code",
   "execution_count": 7,
   "metadata": {},
   "outputs": [
    {
     "name": "stdout",
     "output_type": "stream",
     "text": [
      "((0, 0, -2*sqrt(3)*I/3, 1/3), -4/3)\n"
     ]
    }
   ],
   "source": [
    "from sympy import *\n",
    "from mlearn import optimize\n",
    "\n",
    "# 存在复数解\n",
    "\n",
    "x = Symbol('x')\n",
    "y = Symbol('y')\n",
    "z = Symbol('z')\n",
    "f = x**2 + y**2 + z**2\n",
    "cons_e = [x**2+2*y**2-3*z**2-4]\n",
    "cons_le = []\n",
    "result, loss= optimize.lagrange_multiplier(f, cons_e, cons_le, x,y,z)\n",
    "print(result)"
   ]
  },
  {
   "cell_type": "markdown",
   "metadata": {},
   "source": [
    "**SVM**"
   ]
  },
  {
   "cell_type": "code",
   "execution_count": 8,
   "metadata": {
    "scrolled": false
   },
   "outputs": [
    {
     "name": "stdout",
     "output_type": "stream",
     "text": [
      "accuracy: 0.4179342411159083\n"
     ]
    }
   ],
   "source": [
    "from process import UCIadult_process\n",
    "from mlearn import svm\n",
    "import pandas as pd\n",
    "import numpy as np\n",
    "from sklearn.metrics import accuracy_score\n",
    "\n",
    "train = UCIadult_process.process('data/UCI_adult/adult.data', None)\n",
    "test = UCIadult_process.process('data/UCI_adult/adult.test', [0])\n",
    "\n",
    "del train['native_country_Holand-Netherlands']\n",
    "\n",
    "# 用5000条数据进行训练，超过一定的数量对偶问题求解会💥\n",
    "X_train = train.drop(['salary'], axis=1).values[:5000,:]\n",
    "y_train = train.salary.values[:5000]\n",
    "y_train[y_train == 0] = -1\n",
    "\n",
    "X_test = test.drop(['salary'], axis=1).values\n",
    "y_test = test.salary.values\n",
    "y_test[y_test == 0] = -1\n",
    "\n",
    "clf = svm.SVM(features=train.drop(['salary'], axis=1).columns, max_iter=100, C=0.1, kernel='linear')\n",
    "clf.fit(X_train, y_train)\n",
    "y_pred = clf.predict(X_test)\n",
    "\n",
    "acc = accuracy_score(y_test, y_pred)\n",
    "print('accuracy:', acc)"
   ]
  },
  {
   "cell_type": "code",
   "execution_count": 15,
   "metadata": {},
   "outputs": [
    {
     "name": "stdout",
     "output_type": "stream",
     "text": [
      "accuracy: 0.7541680504815675\n"
     ]
    }
   ],
   "source": [
    "from Process import UCIadult_process\n",
    "from MLWheel import svm\n",
    "import pandas as pd\n",
    "import numpy as np\n",
    "from sklearn.metrics import accuracy_score\n",
    "\n",
    "train = UCIadult_process.process('data/UCI_adult/adult.data', None)\n",
    "test = UCIadult_process.process('data/UCI_adult/adult.test', [0])\n",
    "\n",
    "del train['native_country_Holand-Netherlands']\n",
    "\n",
    "# 用5000条数据进行训练，超过一定的数量对偶问题求解会💥\n",
    "X_train = train.drop(['salary'], axis=1).values[:5000,:]\n",
    "y_train = train.salary.values[:5000]\n",
    "y_train[y_train == 0] = -1\n",
    "\n",
    "X_test = test.drop(['salary'], axis=1).values\n",
    "y_test = test.salary.values\n",
    "y_test[y_test == 0] = -1\n",
    "\n",
    "clf = svm.SVM(features=train.drop(['salary'], axis=1).columns, max_iter=5000, C=3, kernel='rbf')\n",
    "clf.fit(X_train, y_train)\n",
    "y_pred = clf.predict(X_test)\n",
    "\n",
    "acc = accuracy_score(y_test, y_pred)\n",
    "print('accuracy:', acc)"
   ]
  },
  {
   "cell_type": "code",
   "execution_count": 9,
   "metadata": {},
   "outputs": [
    {
     "name": "stdout",
     "output_type": "stream",
     "text": [
      "accuracy: 0.48794420458319493\n"
     ]
    }
   ],
   "source": [
    "from process import UCIadult_process\n",
    "from mlearn import svm\n",
    "import pandas as pd\n",
    "import numpy as np\n",
    "from sklearn.metrics import accuracy_score\n",
    "\n",
    "train = UCIadult_process.process('data/UCI_adult/adult.data', None)\n",
    "test = UCIadult_process.process('data/UCI_adult/adult.test', [0])\n",
    "\n",
    "del train['native_country_Holand-Netherlands']\n",
    "\n",
    "# 用5000条数据进行训练，超过一定的数量对偶问题求解会💥\n",
    "X_train = train.drop(['salary'], axis=1).values[:5000,:]\n",
    "y_train = train.salary.values[:5000]\n",
    "y_train[y_train == 0] = -1\n",
    "\n",
    "X_test = test.drop(['salary'], axis=1).values\n",
    "y_test = test.salary.values\n",
    "y_test[y_test == 0] = -1\n",
    "\n",
    "clf = svm.SVM(features=train.drop(['salary'], axis=1).columns, max_iter=100, C=0.1, kernel='sigmoid')\n",
    "clf.fit(X_train, y_train)\n",
    "y_pred = clf.predict(X_test)\n",
    "\n",
    "acc = accuracy_score(y_test, y_pred)\n",
    "print('accuracy:', acc)"
   ]
  },
  {
   "cell_type": "code",
   "execution_count": null,
   "metadata": {},
   "outputs": [],
   "source": [
    "from sklearn import svm\n",
    "from process import UCIadult_process\n",
    "\n",
    "train = UCIadult_process.process('data/UCI_adult/adult.data', None)\n",
    "test = UCIadult_process.process('data/UCI_adult/adult.test', [0])\n",
    "\n",
    "del train['native_country_Holand-Netherlands']\n",
    "\n",
    "X_train = train.drop(['salary'], axis=1).values\n",
    "y_train = train.salary.values\n",
    "\n",
    "X_test = test.drop(['salary'],axis=1).values\n",
    "y_test = test.salary.values\n",
    "\n",
    "clf = svm.SVC().fit(X_train, y_train)\n",
    "clf.score(X_test, y_test)"
   ]
  }
 ],
 "metadata": {
  "kernelspec": {
   "display_name": "Python 3",
   "language": "python",
   "name": "python3"
  },
  "language_info": {
   "codemirror_mode": {
    "name": "ipython",
    "version": 3
   },
   "file_extension": ".py",
   "mimetype": "text/x-python",
   "name": "python",
   "nbconvert_exporter": "python",
   "pygments_lexer": "ipython3",
   "version": "3.6.5"
  },
  "toc": {
   "base_numbering": 1,
   "nav_menu": {},
   "number_sections": true,
   "sideBar": true,
   "skip_h1_title": false,
   "title_cell": "Table of Contents",
   "title_sidebar": "Contents",
   "toc_cell": false,
   "toc_position": {},
   "toc_section_display": true,
   "toc_window_display": false
  }
 },
 "nbformat": 4,
 "nbformat_minor": 2
}

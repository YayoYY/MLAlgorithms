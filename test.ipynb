{
 "cells": [
  {
   "cell_type": "markdown",
   "metadata": {},
   "source": [
    "**Logistic Regression**\n",
    "\n",
    "[UCI的Adult数据集](https://archive.ics.uci.edu/ml/datasets/Adult)"
   ]
  },
  {
   "cell_type": "code",
   "execution_count": 2,
   "metadata": {
    "scrolled": true
   },
   "outputs": [
    {
     "name": "stdout",
     "output_type": "stream",
     "text": [
      "accuracy: 0.8049153105280638\n"
     ]
    }
   ],
   "source": [
    "import sys\n",
    "sys.path.append('../../')\n",
    "from Process import UCIadult_process\n",
    "from MLWheel import lr\n",
    "import pandas as pd\n",
    "import numpy as np\n",
    "from sklearn.metrics import accuracy_score\n",
    "import warnings\n",
    "warnings.filterwarnings('ignore')\n",
    "\n",
    "train = UCIadult_process.process('../data/UCI_adult/adult.data', None)\n",
    "test = UCIadult_process.process('../data/UCI_adult/adult.test', [0])\n",
    "\n",
    "del train['native_country_Holand-Netherlands']\n",
    "\n",
    "X_train = train.drop(['salary'], axis=1).as_matrix()\n",
    "y_train = train.salary.as_matrix()\n",
    "\n",
    "X_test = test.drop(['salary'],axis=1).as_matrix()\n",
    "y_test = test.salary.as_matrix()\n",
    "y_test = y_test.reshape(1, len(y_test))\n",
    "\n",
    "clf = lr.LogisticRegression(train.drop(['salary'], axis=1).columns)\n",
    "clf.fit(X_train, y_train)\n",
    "y_pred = clf.predict(X_test)\n",
    "\n",
    "y_t = y_test.reshape((15055,)).copy()\n",
    "y_p = y_pred.reshape((15055,)).copy()\n",
    "\n",
    "y_p [y_p >= 0.5] = 1\n",
    "y_p [y_p < 0.5] = 0\n",
    "\n",
    "acc = accuracy_score(y_t, y_p)\n",
    "print('accuracy:', acc)"
   ]
  },
  {
   "cell_type": "code",
   "execution_count": 16,
   "metadata": {},
   "outputs": [
    {
     "name": "stderr",
     "output_type": "stream",
     "text": [
      "[Parallel(n_jobs=1)]: Done   1 out of   1 | elapsed:    1.3s remaining:    0.0s\n",
      "[Parallel(n_jobs=1)]: Done   1 out of   1 | elapsed:    1.3s finished\n"
     ]
    },
    {
     "data": {
      "text/plain": [
       "0.8458319495184324"
      ]
     },
     "execution_count": 16,
     "metadata": {},
     "output_type": "execute_result"
    }
   ],
   "source": [
    "from sklearn import linear_model\n",
    "import sys\n",
    "from ..Process import UCIadult_process\n",
    "import warnings\n",
    "warnings.filterwarnings('ignore')\n",
    "\n",
    "train = UCIadult_process.process('../data/UCI_adult/adult.data', None)\n",
    "test = UCIadult_process.process('../data/UCI_adult/adult.test', [0])\n",
    "\n",
    "del train['native_country_Holand-Netherlands']\n",
    "\n",
    "X_train = train.drop(['salary'], axis=1).as_matrix()\n",
    "y_train = train.salary.as_matrix()\n",
    "\n",
    "X_test = test.drop(['salary'],axis=1).as_matrix()\n",
    "y_test = test.salary.as_matrix()\n",
    "y_test = y_test\n",
    "\n",
    "clf = linear_model.LogisticRegression(penalty='l2',verbose=2,solver='newton-cg').fit(X_train, y_train)\n",
    "clf.score(X_test, y_test)"
   ]
  },
  {
   "cell_type": "code",
   "execution_count": null,
   "metadata": {},
   "outputs": [],
   "source": [
    "# 多分类\n",
    "\n",
    "from sklearn.datasets import load_iris\n",
    "from sklearn.linear_model import LinearRegression\n",
    "from "
   ]
  },
  {
   "cell_type": "code",
   "execution_count": 22,
   "metadata": {},
   "outputs": [
    {
     "ename": "ValueError",
     "evalue": "attempted relative import beyond top-level package",
     "output_type": "error",
     "traceback": [
      "\u001b[0;31m---------------------------------------------------------------------------\u001b[0m",
      "\u001b[0;31mValueError\u001b[0m                                Traceback (most recent call last)",
      "\u001b[0;32m<ipython-input-22-b19fabc0d59d>\u001b[0m in \u001b[0;36m<module>\u001b[0;34m()\u001b[0m\n\u001b[0;32m----> 1\u001b[0;31m \u001b[0;32mfrom\u001b[0m \u001b[0;34m.\u001b[0m\u001b[0;34m.\u001b[0m\u001b[0mProcess\u001b[0m \u001b[0;32mimport\u001b[0m \u001b[0mUCIadult_process\u001b[0m\u001b[0;34m\u001b[0m\u001b[0m\n\u001b[0m",
      "\u001b[0;31mValueError\u001b[0m: attempted relative import beyond top-level package"
     ]
    }
   ],
   "source": [
    "from ..Process import UCIadult_process"
   ]
  }
 ],
 "metadata": {
  "kernelspec": {
   "display_name": "Python 3",
   "language": "python",
   "name": "python3"
  },
  "language_info": {
   "codemirror_mode": {
    "name": "ipython",
    "version": 3
   },
   "file_extension": ".py",
   "mimetype": "text/x-python",
   "name": "python",
   "nbconvert_exporter": "python",
   "pygments_lexer": "ipython3",
   "version": "3.6.5"
  },
  "toc": {
   "base_numbering": 1,
   "nav_menu": {},
   "number_sections": true,
   "sideBar": true,
   "skip_h1_title": false,
   "title_cell": "Table of Contents",
   "title_sidebar": "Contents",
   "toc_cell": false,
   "toc_position": {},
   "toc_section_display": true,
   "toc_window_display": false
  }
 },
 "nbformat": 4,
 "nbformat_minor": 2
}
